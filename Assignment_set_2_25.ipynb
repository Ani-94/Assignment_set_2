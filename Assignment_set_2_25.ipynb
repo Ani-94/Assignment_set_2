{
 "cells": [
  {
   "cell_type": "code",
   "execution_count": null,
   "id": "08ad1ddb",
   "metadata": {},
   "outputs": [],
   "source": [
    "Q1. What is the distinction between a numpy array and a pandas data frame? Is there a way to convert between the two if there is?\n",
    "\n",
    "Answer:\n",
    "\n",
    "Array stores data in rows and column in a matrix while pandas store data in rows and columns in a table\n",
    "\n",
    "one can be converted to the other\n",
    "\n",
    "Q2. What can go wrong when an user enters in a stock-ticker symbol, and how do you handle it?\n",
    "\n",
    "Answer:\n",
    "\n",
    "Allows a user to scrap stick market data\n",
    "\n",
    "Q3. Identify some of the plotting techniques that are used to produce a stock-market chart.\n",
    "\n",
    "Answer:\n",
    "\n",
    "Using plotly and yfinance\n",
    "Scatter inline mode\n",
    "\n",
    "Q4. Why is it essential to print a legend on a stock market chart?\n",
    "\n",
    "Answer:\n",
    "\n",
    "Explain the elements of the graph\n",
    "\n",
    "Q5. What is the best way to limit the length of a pandas data frame to less than a year?\n",
    "\n",
    "Answer:\n",
    "\n",
    "By downcasting\n",
    "\n",
    "Q6. What is the definition of a 180-day moving average?\n",
    "\n",
    "Answer:\n",
    "\n",
    "Average value for the past 180 days\n",
    "\n",
    "Q7. Did the chapter's final example use \"indirect\" importing? If so, how exactly do you do it?\n",
    "\n",
    "Answer:\n",
    "\n",
    "yes ,\n",
    "\n",
    "By using webscrapping methods like beautiful soap and requests or selenium\n"
   ]
  }
 ],
 "metadata": {
  "kernelspec": {
   "display_name": "Python 3",
   "language": "python",
   "name": "python3"
  },
  "language_info": {
   "codemirror_mode": {
    "name": "ipython",
    "version": 3
   },
   "file_extension": ".py",
   "mimetype": "text/x-python",
   "name": "python",
   "nbconvert_exporter": "python",
   "pygments_lexer": "ipython3",
   "version": "3.8.8"
  }
 },
 "nbformat": 4,
 "nbformat_minor": 5
}
