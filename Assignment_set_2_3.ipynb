{
 "cells": [
  {
   "cell_type": "code",
   "execution_count": null,
   "id": "8e05ad00",
   "metadata": {},
   "outputs": [],
   "source": [
    "1. What is the concept of an abstract superclass?\n",
    "\n",
    "Answer:\n",
    "It is away to provide reusable code, we can extend the class and inherit the code\n",
    "\n",
    "\n",
    "2. What happens when a class statement's top level contains a basic assignment statement?\n",
    "\n",
    "Answer:\n",
    "The variable becomes a class variable\n",
    "\n",
    "\n",
    "3. Why does a class need to manually call a superclass's __init__ method?\n",
    "\n",
    "Answer:\n",
    "To ensure that the variables of a base class will not be initialsed to default. That is\n",
    "if the __init__ is not called the variables or the set of code will not be executed at all.\n",
    "\n",
    "\n",
    "4. How can you augment, instead of completely replacing, an inherited method?\n",
    "\n",
    "Answer:\n",
    "By Message forwarding\n",
    "\n",
    "5. How is the local scope of a class different from that of a function?\n",
    "\n",
    "Answer:\n",
    "A local scope is limited to the boundary of the function it is defined in , while a function scope can be called in any class or functions\n"
   ]
  }
 ],
 "metadata": {
  "kernelspec": {
   "display_name": "Python 3",
   "language": "python",
   "name": "python3"
  },
  "language_info": {
   "codemirror_mode": {
    "name": "ipython",
    "version": 3
   },
   "file_extension": ".py",
   "mimetype": "text/x-python",
   "name": "python",
   "nbconvert_exporter": "python",
   "pygments_lexer": "ipython3",
   "version": "3.8.8"
  }
 },
 "nbformat": 4,
 "nbformat_minor": 5
}
