{
 "cells": [
  {
   "cell_type": "code",
   "execution_count": null,
   "id": "8e99e891",
   "metadata": {},
   "outputs": [],
   "source": [
    "Q1. What is the difference between __getattr__ and __getattribute__?\n",
    "\n",
    "Answer:\n",
    "    If __getattr__ is called when teh attribute is not\n",
    "    there in the class while __getattribute__ is called everytime when\n",
    "    a class is called\n",
    "\n",
    "Q2. What is the difference between properties and descriptors?\n",
    "\n",
    "Answer:\n",
    "    Descriptors of python create object which have special behaviour when called as an attribute \n",
    "    by other objects\n",
    "    Properties help us to create getter and setter methods and binds them to\n",
    "    the name of the attribute\n",
    "\n",
    "Q3. What are the key differences in functionality between __getattr__ and __getattribute__, \n",
    "as well as properties and descriptors?\n",
    "\n",
    "Answer:\n",
    "    The attributes are searched using the __getattr__ and __getattribute__ functions in a class,\n",
    "    while the descriptors and  properties help create special objects or attributes when called\n"
   ]
  }
 ],
 "metadata": {
  "kernelspec": {
   "display_name": "Python 3",
   "language": "python",
   "name": "python3"
  },
  "language_info": {
   "codemirror_mode": {
    "name": "ipython",
    "version": 3
   },
   "file_extension": ".py",
   "mimetype": "text/x-python",
   "name": "python",
   "nbconvert_exporter": "python",
   "pygments_lexer": "ipython3",
   "version": "3.8.8"
  }
 },
 "nbformat": 4,
 "nbformat_minor": 5
}
