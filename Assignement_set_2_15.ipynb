{
 "cells": [
  {
   "cell_type": "code",
   "execution_count": null,
   "id": "7c1355be",
   "metadata": {},
   "outputs": [],
   "source": [
    "1.\tWhat are the new features added in Python 3.8 version?\n",
    "Answer:\n",
    "\n",
    "1. positional only parameters\n",
    "2.Assignment operators\n",
    "3.f.string support’=’\n",
    "4.reversed() method\n",
    "5. No parenthesis for return and yield\n",
    "\n",
    "2.\tWhat is monkey patching in Python?\n",
    "\n",
    "Answer:\n",
    "\n",
    "Changing the behaviour of code during run time is referred to as monkey patching\n",
    "\n",
    "\n",
    "3.\tWhat is the difference between a shallow copy and deep copy?\n",
    "\n",
    "Answer:\n",
    "\n",
    "Shallow copy = the contents in the variable is copied, so changes in the original variable will not effect the \n",
    "copied contents\n",
    "\n",
    "Deep copy = The contents in the copied variable is also effected as the contents in the source variable changes\n",
    "\n",
    "4.\tWhat is the maximum possible length of an identifier?\n",
    "\n",
    "Answer:\n",
    "\n",
    "79 characters\n",
    "\n",
    "5.\tWhat is generator comprehension?\n",
    "\n",
    "Answer:\n",
    "\n",
    "A single line specification for defining the generator\n"
   ]
  }
 ],
 "metadata": {
  "kernelspec": {
   "display_name": "Python 3",
   "language": "python",
   "name": "python3"
  },
  "language_info": {
   "codemirror_mode": {
    "name": "ipython",
    "version": 3
   },
   "file_extension": ".py",
   "mimetype": "text/x-python",
   "name": "python",
   "nbconvert_exporter": "python",
   "pygments_lexer": "ipython3",
   "version": "3.8.8"
  }
 },
 "nbformat": 4,
 "nbformat_minor": 5
}
