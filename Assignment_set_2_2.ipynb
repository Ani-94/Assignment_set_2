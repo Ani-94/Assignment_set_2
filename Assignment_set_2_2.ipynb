{
 "cells": [
  {
   "cell_type": "code",
   "execution_count": null,
   "id": "d9b0df07",
   "metadata": {},
   "outputs": [],
   "source": [
    "Q1. What is the relationship between classes and modules?\n",
    "\n",
    "Answer:\n",
    "\n",
    "A module can have zero or more classes but cannot generate objects,\n",
    "while a class can create an object  and be created or called in one or more modules\n",
    "\n",
    "Q2. How do you make instances and classes?\n",
    "\n",
    "Answer:\n",
    "\n",
    "Class is crated by using the keyword class\n",
    "Instances are decorators with __init__ as 1st argument\n",
    "\n",
    "Q3. Where and how should be class attributes created?\n",
    "\n",
    "Answer:\n",
    "\n",
    "The attributes are created in the __init__ decoarator by using the \"self pointer\"\n",
    "\n",
    "Q4. Where and how are instance attributes created?\n",
    "\n",
    "Answer:\n",
    "\n",
    "Instance attributes are created in the methods defined in a function and they are preceded by a pointer variable\n",
    "\n",
    "\n",
    "Q5. What does the term \"self\" in a Python class mean?\n",
    "\n",
    "Sel represents instances of a class, by using the word self we can access the attributes and instances of a class\n",
    "\n",
    "\n",
    "Q6. How does a Python class handle operator overloading?\n",
    "\n",
    "Answer:\n",
    "\n",
    "An operator in overloading by python would be defined by more than one classes, thus based on the inputs and the class called the operator functions are performed\n",
    "\n",
    "Q7. When do you consider allowing operator overloading of your classes?\n",
    "\n",
    "Answer:\n",
    "When a function is to be performed by an operator, that is not predefined in the operator class, then an user defined class is generated to perform the functions.\n",
    "\n",
    "\n",
    "Q8. What is the most popular form of operator overloading?\n",
    "\n",
    "Answer:\n",
    "Addition operator\n",
    "\n",
    "Q9. What are the two most important concepts to grasp in order to comprehend Python OOP code?\n",
    "\n",
    "Answer:\n",
    "Inheritance and polymorphism\n"
   ]
  }
 ],
 "metadata": {
  "kernelspec": {
   "display_name": "Python 3",
   "language": "python",
   "name": "python3"
  },
  "language_info": {
   "codemirror_mode": {
    "name": "ipython",
    "version": 3
   },
   "file_extension": ".py",
   "mimetype": "text/x-python",
   "name": "python",
   "nbconvert_exporter": "python",
   "pygments_lexer": "ipython3",
   "version": "3.8.8"
  }
 },
 "nbformat": 4,
 "nbformat_minor": 5
}
