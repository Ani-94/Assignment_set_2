{
 "cells": [
  {
   "cell_type": "code",
   "execution_count": null,
   "id": "264b6469",
   "metadata": {},
   "outputs": [],
   "source": [
    "Q1. What is the meaning of multiple inheritance?\n",
    "\n",
    "Answer:\n",
    "When a class is derived from more than 1 class it is called multiple inheritance\n",
    "\n",
    "\n",
    "Q2. What is the concept of delegation?\n",
    "\n",
    "Answer:\n",
    "\n",
    "Represents reference to a method with a particular parameter list and return type\n",
    "\n",
    "\n",
    "Q3. What is the concept of composition?\n",
    "\n",
    "Answer:\n",
    "\n",
    "Enables creating a complex type by combining objects of different types\n",
    "\n",
    "\n",
    "Q4. What are bound methods and how do we use them?\n",
    "\n",
    "Answer:\n",
    "\n",
    "A bound method is one that is dependent on the instance of the class as a 1st argument\n",
    "\n",
    "It can be used to access various functions and variables of a class.\n",
    "\n",
    "Q5. What is the purpose of pseudoprivate attributes?\n",
    "\n",
    "Answer:\n",
    "\n",
    "It helps in preventing access to code outside the class\n"
   ]
  }
 ],
 "metadata": {
  "kernelspec": {
   "display_name": "Python 3",
   "language": "python",
   "name": "python3"
  },
  "language_info": {
   "codemirror_mode": {
    "name": "ipython",
    "version": 3
   },
   "file_extension": ".py",
   "mimetype": "text/x-python",
   "name": "python",
   "nbconvert_exporter": "python",
   "pygments_lexer": "ipython3",
   "version": "3.8.8"
  }
 },
 "nbformat": 4,
 "nbformat_minor": 5
}
