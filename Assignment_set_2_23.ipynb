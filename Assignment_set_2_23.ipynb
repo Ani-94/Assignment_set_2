{
 "cells": [
  {
   "cell_type": "code",
   "execution_count": null,
   "id": "e1225833",
   "metadata": {},
   "outputs": [],
   "source": [
    "Q1. If you have any, what are your choices for increasing the comparison between different figures on the same graph?\n",
    "\n",
    "Answer:\n",
    "\n",
    "scatter  plot with Hue\n",
    "\n",
    "Q2. Can you explain the benefit of compound interest over a higher rate of interest that does not compound after reading this chapter?\n",
    "\n",
    "Answer:\n",
    "\n",
    "Makes a sum of money grow at a faster rate\n",
    "\n",
    "Q3. What is a histogram, exactly? Name a numpy method for creating such a graph.\n",
    "\n",
    "Answer:\n",
    "\n",
    "Represents the variation of a numerical valuefor on or more variable\n",
    "\n",
    "numpy.histogram()\n",
    "\n",
    "Q4. If necessary, how do you change the aspect ratios between the X and Y axes?\n",
    "\n",
    "Answer:\n",
    "\n",
    "Using set_aspect() function\n",
    "\n",
    "Q5. Compare and contrast the three types of array multiplication between two numpy arrays: dot product, outer product, and regular multiplication of two numpy arrays.\n",
    "\n",
    "Answer:\n",
    "\n",
    "dot() - Multiplies the elements in the array\n",
    "outer product()- Multiplies each of ones array with each of other array and return an array of lists of product\n",
    "regular multiplication- Multiplies each element with the corresponding elements in the other matrix\n",
    "\n",
    "Q6. Before you buy a home, which numpy function will you use to measure your monthly mortgage payment?\n",
    "\n",
    "Answer:\n",
    "\n",
    "pmt()\n",
    "\n",
    "Q7. Can string data be stored in numpy arrays? If so, list at least one restriction that applies to this data.\n",
    "\n",
    "Answer:\n",
    "\n",
    "A string can be stored in an array\n",
    "\n",
    "But the array should hold elements of string type\n"
   ]
  }
 ],
 "metadata": {
  "kernelspec": {
   "display_name": "Python 3",
   "language": "python",
   "name": "python3"
  },
  "language_info": {
   "codemirror_mode": {
    "name": "ipython",
    "version": 3
   },
   "file_extension": ".py",
   "mimetype": "text/x-python",
   "name": "python",
   "nbconvert_exporter": "python",
   "pygments_lexer": "ipython3",
   "version": "3.8.8"
  }
 },
 "nbformat": 4,
 "nbformat_minor": 5
}
