{
 "cells": [
  {
   "cell_type": "code",
   "execution_count": null,
   "id": "c7e2742e",
   "metadata": {},
   "outputs": [],
   "source": [
    "Q1. Describe three applications for exception processing.\n",
    "\n",
    "Answer:\n",
    "\n",
    "Syntax : Error in format of the function called\n",
    "\n",
    "Exception: When python cannot execute a set of code it terminates the program and raises an exception. This can happen in a syntactically correct code also\n",
    "\n",
    "Logical error: The end result will be not what the code was meant to return, here no abrupt termination of code or error messages will appear\n",
    "\n",
    "Q2. What happens if you don't do something extra to treat an exception?\n",
    "\n",
    "Answer:\n",
    "\n",
    "The code ether terminates or returns an error or gives undesired output\n",
    "\n",
    "Q3. What are your options for recovering from an exception in your script?\n",
    "\n",
    "Answer:\n",
    "\n",
    "To try exception handling which will continue the code even at discovery of an error, or debug the code to correct the error\n",
    "\n",
    "Q4. Describe two methods for triggering exceptions in your script.\n",
    "\n",
    "Answer:\n",
    "\n",
    "Raise Exception and logging\n",
    "\n",
    "\n",
    "Q5. Identify two methods for specifying actions to be executed at termination time, regardless of whether or not an exception exists.\n",
    "\n",
    "Answer:\n",
    "\n",
    "Logging and atexit()\n"
   ]
  }
 ],
 "metadata": {
  "kernelspec": {
   "display_name": "Python 3",
   "language": "python",
   "name": "python3"
  },
  "language_info": {
   "codemirror_mode": {
    "name": "ipython",
    "version": 3
   },
   "file_extension": ".py",
   "mimetype": "text/x-python",
   "name": "python",
   "nbconvert_exporter": "python",
   "pygments_lexer": "ipython3",
   "version": "3.8.8"
  }
 },
 "nbformat": 4,
 "nbformat_minor": 5
}
