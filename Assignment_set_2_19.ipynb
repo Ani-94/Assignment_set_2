{
 "cells": [
  {
   "cell_type": "code",
   "execution_count": null,
   "id": "d9f87bc3",
   "metadata": {},
   "outputs": [],
   "source": [
    "Q1. Define the relationship between a class and its instances. Is it a one-to-one or a one-to-many partnership, for example?\n",
    "A class is a blueprint of  the instance and it is a one-to-many partnpartnship\n",
    "Q2. What kind of data is held only in an instance?\n",
    "Answer:\n",
    "The ones that refer to the class\n",
    "Q3. What kind of knowledge is stored in a class?\n",
    "Answer:\n",
    "The blueprint of an object\n",
    "Q4. What exactly is a method, and how is it different from a regular function?\n",
    "Answer:\n",
    "A function that belongs to an object is a method\n",
    "while the function does not belong to any object\n",
    "Q5. Is inheritance supported in Python, and if so, what is the syntax?\n",
    "Answer:\n",
    "It is supported by python\n",
    "class a():\n",
    "\tdef func1():\n",
    "\n",
    "class b(a):\n",
    "pass\n",
    "\n",
    "Q6. How much encapsulation (making instance or class variables private) does Python support?\n",
    "Answer:\n",
    "3 different techniques are supported by python\n",
    "Q7. How do you distinguish between a class variable and an instance variable?\n",
    "Answer:\n",
    "Class variable will be prefixed by self keyword but not instance variables\n",
    "Q8. When, if ever, can self be included in a class's method definitions?\n",
    "Answer:\n",
    "To define a global or a class variables\n",
    "Q9. What is the difference between the _ _add_ _ and the _ _radd_ _ methods?\n",
    "Answer:\n",
    "If a method knows to add 2 object it should have __add__ method, in the absence of __add__ method __radd__ is called\n",
    "Q10. When is it necessary to use a reflection method? When do you not need it, even though you support the operation in question?\n",
    "Answer:\n",
    "When a code wants to check the attributes of method that are to be passed as parameter to a function\n",
    "Q11. What is the _ _iadd_ _ method called?\n",
    "It os called to override the ‘+=’ operators\n",
    "Q12. Is the _ _init_ _ method inherited by subclasses? What do you do if you need to customize its behavior within a subclass?\n",
    "Answer:\n",
    "yes it can be and the method will be cumbersome for large hierarchies\n"
   ]
  }
 ],
 "metadata": {
  "kernelspec": {
   "display_name": "Python 3",
   "language": "python",
   "name": "python3"
  },
  "language_info": {
   "codemirror_mode": {
    "name": "ipython",
    "version": 3
   },
   "file_extension": ".py",
   "mimetype": "text/x-python",
   "name": "python",
   "nbconvert_exporter": "python",
   "pygments_lexer": "ipython3",
   "version": "3.8.8"
  }
 },
 "nbformat": 4,
 "nbformat_minor": 5
}
