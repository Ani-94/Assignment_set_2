{
 "cells": [
  {
   "cell_type": "code",
   "execution_count": null,
   "id": "6f4e86cf",
   "metadata": {},
   "outputs": [],
   "source": [
    "Q1. What are the two latest user-defined exception constraints in Python 3.X?\n",
    "\n",
    "Answer:\n",
    "\n",
    "zerodivisionerror()\n",
    "\n",
    "transitionerror()\n",
    "\n",
    "Q2. How are class-based exceptions that have been raised matched to handlers?\n",
    "\n",
    "Answer:\n",
    "\n",
    "In class based exceptions objects are returned while the in handlers the string is returned\n",
    "\n",
    "\n",
    "Q3. Describe two methods for attaching context information to exception artefacts.\n",
    "\n",
    "Answer:\n",
    "\n",
    "__context__  retains the zero division error \n",
    "\n",
    "__cause__ retains the information of the error raised due to IOError\n",
    "\n",
    "\n",
    "Q4. Describe two methods for specifying the text of an exception object's error message.\n",
    "\n",
    "Answer:\n",
    "\n",
    "print() can output the exception\n",
    "\n",
    "raise  raises the exeption\n",
    "\n",
    "Q5. Why do you no longer use string-based exceptions?\n",
    "\n",
    "Due to compatibility issues when the standard exceptions were converted to classes\n"
   ]
  }
 ],
 "metadata": {
  "kernelspec": {
   "display_name": "Python 3",
   "language": "python",
   "name": "python3"
  },
  "language_info": {
   "codemirror_mode": {
    "name": "ipython",
    "version": 3
   },
   "file_extension": ".py",
   "mimetype": "text/x-python",
   "name": "python",
   "nbconvert_exporter": "python",
   "pygments_lexer": "ipython3",
   "version": "3.8.8"
  }
 },
 "nbformat": 4,
 "nbformat_minor": 5
}
