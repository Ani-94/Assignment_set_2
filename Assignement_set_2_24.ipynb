{
 "cells": [
  {
   "cell_type": "code",
   "execution_count": null,
   "id": "64e8336f",
   "metadata": {},
   "outputs": [],
   "source": [
    "Q1. Is it permissible to use several import statements to import the same module? What would the goal be? \n",
    "Can you think of a situation where it would be beneficial?\n",
    "Answer:\n",
    "The 1st occurence is evaluated\n",
    "to import different methods of the same class\n",
    "\n",
    "Q2. What are some of a module's characteristics? (Name at least one.)\n",
    "Answer:\n",
    "They contain instructions, processing logic and data\n",
    "\n",
    "Q3. Circular importing, such as when two modules import each other, can lead to dependencies and bugs that\n",
    "aren't visible. How can you go about creating a program that avoids mutual importing?\n",
    "Answer:\n",
    "By moving the module to a different file\n",
    "\n",
    "Q4. Why is  _ _all_ _ in Python?\n",
    "Answer:\n",
    "To check whether the current scripts is run on its own or whether imported somewhere else by combining \n",
    "with a conditional statement\n",
    "\n",
    "Q5. In what situation is it useful to refer to the _ _name_ _ attribute or the string '_ _main_ _'?\n",
    "Answer:\n",
    "Only if it is the main program to be executed\n",
    "\n",
    "Q6. What are some of the benefits of attaching a program counter to the RPN interpreter application,\n",
    "which interprets an RPN script line by line?\n",
    "\n",
    "Answer:\n",
    "    \n",
    "It acts as an augmented interface\n",
    "\n",
    "RPNpy\n",
    "\n",
    "Q7. What are the minimum expressions or statements (or both) that you'd need to\n",
    "render a basic programming language like RPN primitive but complete— that is, \n",
    "capable of carrying out any computerised task theoretically possible?\n",
    "\n",
    "Answer:\n",
    "    \n",
    "    MYVERSION=2.1.b3  ## Obviously, you'll need to change this to the desired version\n",
    "    NAME=rpnpy\n",
    "    MYURL=https://gitlab.science.gc.ca/MIG/${NAME}.git\n",
    "    git clone ${MYURL} ${NAME}_${MYVERSION} ${NAME}\n",
    "    cd ${NAME}\n",
    "    git checkout -b ${NAME}_${MYVERSION}-${USER}-branch ${NAME}_${MYVERSION}\n",
    "\n",
    "    . ./.setenv.dot --dev\n",
    "    rdemklink -v\n",
    "    rm -f include/.restricted\n",
    "    touch $(rdevar srcpathfile)"
   ]
  }
 ],
 "metadata": {
  "kernelspec": {
   "display_name": "Python 3",
   "language": "python",
   "name": "python3"
  },
  "language_info": {
   "codemirror_mode": {
    "name": "ipython",
    "version": 3
   },
   "file_extension": ".py",
   "mimetype": "text/x-python",
   "name": "python",
   "nbconvert_exporter": "python",
   "pygments_lexer": "ipython3",
   "version": "3.8.8"
  }
 },
 "nbformat": 4,
 "nbformat_minor": 5
}
