{
 "cells": [
  {
   "cell_type": "code",
   "execution_count": null,
   "id": "8f320984",
   "metadata": {},
   "outputs": [],
   "source": [
    "Q1. What is the concept of a metaclass?\n",
    "Answer:\n",
    "    A metaclass defines the behaviour of certain classes and their instances\n",
    "\n",
    "Q2. What is the best way to declare a class's metaclass?\n",
    "Answer:\n",
    "    Define a class, use the __new__ method and super keyword to define the metaclass\n",
    "\n",
    "Q3. How do class decorators overlap with metaclasses for handling classes?\n",
    "\n",
    "Answer:\n",
    "    The decorators will classes and intersect with the metaclass\n",
    "    as second of these roles\n",
    "\n",
    "Q4. How do class decorators overlap with metaclasses for handling instances?\n",
    "\n",
    "Answer:\n",
    "    The decorators will augment classes independent of created instances  thus \n",
    "    overlapping with metaclass functionally"
   ]
  }
 ],
 "metadata": {
  "kernelspec": {
   "display_name": "Python 3",
   "language": "python",
   "name": "python3"
  },
  "language_info": {
   "codemirror_mode": {
    "name": "ipython",
    "version": 3
   },
   "file_extension": ".py",
   "mimetype": "text/x-python",
   "name": "python",
   "nbconvert_exporter": "python",
   "pygments_lexer": "ipython3",
   "version": "3.8.8"
  }
 },
 "nbformat": 4,
 "nbformat_minor": 5
}
