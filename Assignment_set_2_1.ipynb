{
 "cells": [
  {
   "cell_type": "code",
   "execution_count": null,
   "id": "34eeba04",
   "metadata": {},
   "outputs": [],
   "source": [
    "Q1. What is the purpose of Python's OOP?\n",
    "\n",
    "Answer:\n",
    "\n",
    "It is a programming pattern where object and methods are used. It helps in implementing real world scenarios using encapsulation, polymorphism etc.\n",
    "\n",
    "Q2. Where does an inheritance search look for an attribute?\n",
    "\n",
    "Answer:\n",
    "\n",
    "In a inherited class\n",
    "\n",
    "Q3. How do you distinguish between a class object and an instance object?\n",
    "\n",
    "Answer:\n",
    "\n",
    "Class object is defined outside other object\n",
    "\n",
    "Instance object is defined inside the object of a class\n",
    "\n",
    "Q4. What makes the first argument in a class’s method function special?\n",
    "\n",
    "Answer:\n",
    "\n",
    "Its a pointer argument that when used with any variable points the variable as a property of class and the variables with pointers can be used anywhere in the class\n",
    "\n",
    "Q5. What is the purpose of the __init__ method?\n",
    "\n",
    "Answer:\n",
    "\n",
    "lets the class initiate the object attributes\n",
    "\n",
    "\n",
    "Q6. What is the process for creating a class instance?\n",
    "\n",
    "Answer:\n",
    "\n",
    "Call the class by its name and pass arguments allowed by its __init__ method\n",
    "\n",
    "\n",
    "Q7. What is the process for creating a class?\n",
    "\n",
    "Answer:\n",
    "\n",
    "We create a class by using the class keyword\n",
    "\n",
    "Q8. How would you define the superclasses of a class?\n",
    "\n",
    "Answer:\n",
    "\n",
    "By using the keyword super()\n"
   ]
  }
 ],
 "metadata": {
  "kernelspec": {
   "display_name": "Python 3",
   "language": "python",
   "name": "python3"
  },
  "language_info": {
   "codemirror_mode": {
    "name": "ipython",
    "version": 3
   },
   "file_extension": ".py",
   "mimetype": "text/x-python",
   "name": "python",
   "nbconvert_exporter": "python",
   "pygments_lexer": "ipython3",
   "version": "3.8.8"
  }
 },
 "nbformat": 4,
 "nbformat_minor": 5
}
