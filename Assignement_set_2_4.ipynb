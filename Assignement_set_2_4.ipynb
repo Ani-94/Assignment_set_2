{
 "cells": [
  {
   "cell_type": "code",
   "execution_count": null,
   "id": "7ae76231",
   "metadata": {},
   "outputs": [],
   "source": [
    "Q1. Which two operator overloading methods can you use in your classes to support iteration?\n",
    "\n",
    "Answer:\n",
    "\n",
    "__iter__\n",
    "__next__\n",
    "\n",
    "Q2. In what contexts do the two operator overloading methods manage printing?\n",
    "\n",
    "Answer:\n",
    "\n",
    "__iter__ method returns the iteration object\n",
    "\n",
    "__next__ method returns the the next value and is called at  each loop\n",
    "\n",
    "\n",
    "Q3. In a class, how do you intercept slice operations?\n",
    "\n",
    "Answer:\n",
    "\n",
    "Pass the slice object to setitem and delitem\n",
    "\n",
    "\n",
    "Q4. In a class, how do you capture in-place addition?\n",
    "\n",
    "Answer:\n",
    "iadd()\n",
    "\n",
    "\n",
    "Q5. When is it appropriate to use operator overloading?\n",
    "\n",
    "Answer:\n",
    "\n",
    "When the definition of a class in an Abstract Base Class has to be extended.\n"
   ]
  }
 ],
 "metadata": {
  "kernelspec": {
   "display_name": "Python 3",
   "language": "python",
   "name": "python3"
  },
  "language_info": {
   "codemirror_mode": {
    "name": "ipython",
    "version": 3
   },
   "file_extension": ".py",
   "mimetype": "text/x-python",
   "name": "python",
   "nbconvert_exporter": "python",
   "pygments_lexer": "ipython3",
   "version": "3.8.8"
  }
 },
 "nbformat": 4,
 "nbformat_minor": 5
}
