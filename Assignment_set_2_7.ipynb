{
 "cells": [
  {
   "cell_type": "code",
   "execution_count": null,
   "id": "90c7928a",
   "metadata": {},
   "outputs": [],
   "source": [
    "Q1. What is the purpose of the try statement?\n",
    "\n",
    "Answer:\n",
    "\n",
    "It executes the following code when an error is discovered it passes the control to exception block to raise an exception or to execute the code in the exception block and continues the flow. It ensures the code is not terminated during execution of the program\n",
    "\n",
    "Q2. What are the two most popular try statement variations?\n",
    "\n",
    "Answer:\n",
    "\n",
    "try(), except() and else()\n",
    "try(), except(), else and finally()\n",
    "\n",
    "\n",
    "Q3. What is the purpose of the raise statement?\n",
    "\n",
    "Answer:\n",
    "\n",
    "raises an exception \n",
    "\n",
    "\n",
    "Q4. What does the assert statement do, and what other statement is it like?\n",
    "\n",
    "Answer:\n",
    "\n",
    "The assert keyword tests whether the condition in the code returns true else raises an assertion error \n",
    "\n",
    "It is similar to try() in exception handling\n",
    "\n",
    "\n",
    "Q5. What is the purpose of the with/as argument, and what other statement is it like?\n",
    "\n",
    "Answer:\n",
    "\n",
    "With/as makes a code more readable and clearer, especially used in file streaming functions\n",
    "\n",
    "It is similar to beautiful soap function\n"
   ]
  }
 ],
 "metadata": {
  "kernelspec": {
   "display_name": "Python 3",
   "language": "python",
   "name": "python3"
  },
  "language_info": {
   "codemirror_mode": {
    "name": "ipython",
    "version": 3
   },
   "file_extension": ".py",
   "mimetype": "text/x-python",
   "name": "python",
   "nbconvert_exporter": "python",
   "pygments_lexer": "ipython3",
   "version": "3.8.8"
  }
 },
 "nbformat": 4,
 "nbformat_minor": 5
}
